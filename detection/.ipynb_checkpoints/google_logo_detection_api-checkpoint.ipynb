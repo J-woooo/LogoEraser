{
 "cells": [
  {
   "cell_type": "code",
   "execution_count": 8,
   "metadata": {},
   "outputs": [
    {
     "name": "stdout",
     "output_type": "stream",
     "text": [
      "Labels:\n",
      "Text = 95%\n",
      "Font = 95%\n",
      "Product = 91%\n",
      "Logo = 81%\n",
      "Line = 77%\n",
      "Brand = 71%\n",
      "Graphics = 65%\n",
      "Advertising = 54%\n",
      "Display advertising = 50%\n"
     ]
    }
   ],
   "source": [
    "def run_quickstart(file_name):\n",
    "    import io\n",
    "    import os\n",
    " \n",
    "    # 구글 라이브러리 import\n",
    "    from google.cloud import vision\n",
    "    from google.cloud.vision import types\n",
    " \n",
    "    # 사용할 클라이언트 설정\n",
    "    client = vision.ImageAnnotatorClient()\n",
    "    \n",
    "    # 이미지 읽기\n",
    "    with io.open(file_name, 'rb') as image_file:\n",
    "        content = image_file.read()\n",
    " \n",
    "    image = types.Image(content=content)\n",
    " \n",
    "    # label 뽑아냄.\n",
    "    response = client.label_detection(image=image)\n",
    "    labels = response.label_annotations\n",
    " \n",
    "    print('Labels:')\n",
    "    for label in labels:\n",
    "        print(label.description + \" = \" + str(int(label.score*100)) + \"%\")\n",
    " \n",
    "if __name__ == '__main__':\n",
    "    run_quickstart(\"logoimage.jfif\")\n",
    "    "
   ]
  },
  {
   "cell_type": "code",
   "execution_count": 5,
   "metadata": {},
   "outputs": [
    {
     "name": "stdout",
     "output_type": "stream",
     "text": [
      "Logos:\n",
      "IKEA\n",
      "Tesco PLC\n",
      "Chanel\n",
      "Cadbury\n",
      "Dove\n",
      "Sony Mobile\n",
      "Google Maps\n",
      "O2\n",
      "Colgate\n",
      "Kellogg's\n"
     ]
    }
   ],
   "source": [
    "def detect_logos(path):\n",
    "    \"\"\"Detects logos in the file.\"\"\"\n",
    "    from google.cloud import vision\n",
    "    import io\n",
    "    client = vision.ImageAnnotatorClient()\n",
    "\n",
    "    with io.open(path, 'rb') as image_file:\n",
    "        content = image_file.read()\n",
    "\n",
    "    image = vision.types.Image(content=content)\n",
    "\n",
    "    response = client.logo_detection(image=image)\n",
    "    logos = response.logo_annotations\n",
    "    print('Logos:')\n",
    "\n",
    "    for logo in logos:\n",
    "        print(logo.description)\n",
    "\n",
    "    if response.error.message:\n",
    "        raise Exception(\n",
    "            '{}\\nFor more info on error messages, check: '\n",
    "            'https://cloud.google.com/apis/design/errors'.format(\n",
    "                response.error.message))\n",
    "        \n",
    "if __name__ == '__main__':\n",
    "    detect_logos(\"logoimage.jfif\") "
   ]
  },
  {
   "cell_type": "code",
   "execution_count": 6,
   "metadata": {},
   "outputs": [],
   "source": [
    "import os, io\n",
    "# from draw_vertice import drawVertices\n",
    "from google.cloud import vision\n",
    "import pandas as pd\n",
    "\n",
    "\n",
    "import io\n",
    "from PIL import Image, ImageDraw, ImageFont\n",
    "\n",
    "def drawVertices(image_source, vertices, display_text=''):\n",
    "    pillow_img = Image.open(io.BytesIO(image_source))\n",
    "\n",
    "    draw = ImageDraw.Draw(pillow_img)\n",
    "    for i in range(len(vertices) - 1):\n",
    "        draw.line(((vertices[i].x, vertices[i].y), (vertices[i + 1].x, vertices[i + 1].y)),\n",
    "                fill='green',\n",
    "                width=8\n",
    "        )\n",
    "\n",
    "    draw.line(((vertices[len(vertices) - 1].x, vertices[len(vertices) - 1].y),\n",
    "               (vertices[0].x, vertices[0].y)),\n",
    "               fill='green',\n",
    "               width=8\n",
    "    )\n",
    "\n",
    "    font = ImageFont.truetype('arial.ttf', 16)\n",
    "    draw.text((vertices[0].x + 10, vertices[0].y),\n",
    "              font=font, text=display_text, \n",
    "              fill=(255, 255, 255))\n",
    "    pillow_img.show()\n",
    "\n",
    "\n",
    "    \n",
    "client = vision.ImageAnnotatorClient()\n",
    "\n",
    "# file_name = 'test.jpg'\n",
    "# image_folder = './images/'\n",
    "# image_path = os.path.join(image_folder, file_name)\n",
    "\n",
    "with io.open(\"logoimage.jfif\", 'rb') as image_file:\n",
    "    content = image_file.read()\n",
    "\n",
    "image = vision.types.Image(content=content)\n",
    "response = client.logo_detection(image=image)\n",
    "logos = response.logo_annotations\n",
    "\n",
    "# for logo in logos:\n",
    "#     print('Logo Description:', logo.description)\n",
    "#     print('Confidence Score:', logo.score)\n",
    "#     print('-'*50)\n",
    "#     vertices = logo.bounding_poly.vertices\n",
    "#     print('Vertices Values {0}'.format(vertices))\n",
    "#     drawVertices(content, vertices, logo.description)\n",
    "drawVertices(content, vertices, logo.description)"
   ]
  },
  {
   "cell_type": "code",
   "execution_count": null,
   "metadata": {},
   "outputs": [],
   "source": []
  }
 ],
 "metadata": {
  "kernelspec": {
   "display_name": "Python 3",
   "language": "python",
   "name": "python3"
  },
  "language_info": {
   "codemirror_mode": {
    "name": "ipython",
    "version": 3
   },
   "file_extension": ".py",
   "mimetype": "text/x-python",
   "name": "python",
   "nbconvert_exporter": "python",
   "pygments_lexer": "ipython3",
   "version": "3.7.6"
  }
 },
 "nbformat": 4,
 "nbformat_minor": 4
}
